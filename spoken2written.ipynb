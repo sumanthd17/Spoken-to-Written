{
  "nbformat": 4,
  "nbformat_minor": 0,
  "metadata": {
    "colab": {
      "name": "spoken2written.ipynb",
      "provenance": [],
      "collapsed_sections": [],
      "include_colab_link": true
    },
    "kernelspec": {
      "name": "python3",
      "display_name": "Python 3"
    }
  },
  "cells": [
    {
      "cell_type": "markdown",
      "metadata": {
        "id": "view-in-github",
        "colab_type": "text"
      },
      "source": [
        "<a href=\"https://colab.research.google.com/github/sumanthd17/Spoken-to-Written/blob/master/spoken2written.ipynb\" target=\"_parent\"><img src=\"https://colab.research.google.com/assets/colab-badge.svg\" alt=\"Open In Colab\"/></a>"
      ]
    },
    {
      "cell_type": "code",
      "metadata": {
        "id": "wF2C_ezZLdH-",
        "colab_type": "code",
        "colab": {}
      },
      "source": [
        "# Imports\n",
        "from nltk import PorterStemmer\n",
        "# import word2number\n",
        "import numpy as np"
      ],
      "execution_count": 0,
      "outputs": []
    },
    {
      "cell_type": "code",
      "metadata": {
        "id": "ABHi-FvqM_dF",
        "colab_type": "code",
        "colab": {}
      },
      "source": [
        "from __future__ import print_function\n",
        "\n",
        "\n",
        "american_number_system = {\n",
        "    'zero': 0,\n",
        "    'one': 1,\n",
        "    'two': 2,\n",
        "    'three': 3,\n",
        "    'four': 4,\n",
        "    'five': 5,\n",
        "    'six': 6,\n",
        "    'seven': 7,\n",
        "    'eight': 8,\n",
        "    'nine': 9,\n",
        "    'ten': 10,\n",
        "    'eleven': 11,\n",
        "    'twelve': 12,\n",
        "    'thirteen': 13,\n",
        "    'fourteen': 14,\n",
        "    'fifteen': 15,\n",
        "    'sixteen': 16,\n",
        "    'seventeen': 17,\n",
        "    'eighteen': 18,\n",
        "    'nineteen': 19,\n",
        "    'twenty': 20,\n",
        "    'thirty': 30,\n",
        "    'forty': 40,\n",
        "    'fifty': 50,\n",
        "    'sixty': 60,\n",
        "    'seventy': 70,\n",
        "    'eighty': 80,\n",
        "    'ninety': 90,\n",
        "    'hundred': 100,\n",
        "    'thousand': 1000,\n",
        "    'million': 1000000,\n",
        "    'billion': 1000000000,\n",
        "    'point': '.'\n",
        "}\n",
        "\n",
        "decimal_words = ['zero', 'one', 'two', 'three', 'four', 'five', 'six', 'seven', 'eight', 'nine']\n",
        "\n",
        "\"\"\"\n",
        "function to form numeric multipliers for million, billion, thousand etc.\n",
        "input: list of strings\n",
        "return value: integer\n",
        "\"\"\"\n",
        "\n",
        "\n",
        "def number_formation(number_words):\n",
        "    numbers = []\n",
        "    for number_word in number_words:\n",
        "        numbers.append(american_number_system[number_word])\n",
        "    if len(numbers) == 4:\n",
        "        return (numbers[0] * numbers[1]) + numbers[2] + numbers[3]\n",
        "    elif len(numbers) == 3:\n",
        "        return numbers[0] * numbers[1] + numbers[2]\n",
        "    elif len(numbers) == 2:\n",
        "        if 100 in numbers:\n",
        "            return numbers[0] * numbers[1]\n",
        "        else:\n",
        "            return numbers[0] + numbers[1]\n",
        "    else:\n",
        "        return numbers[0]\n",
        "\n",
        "\n",
        "\"\"\"\n",
        "function to convert post decimal digit words to numerial digits\n",
        "input: list of strings\n",
        "output: double\n",
        "\"\"\"\n",
        "\n",
        "\n",
        "def get_decimal_sum(decimal_digit_words):\n",
        "    decimal_number_str = []\n",
        "    for dec_word in decimal_digit_words:\n",
        "        if(dec_word not in decimal_words):\n",
        "            return 0\n",
        "        else:\n",
        "            decimal_number_str.append(american_number_system[dec_word])\n",
        "    final_decimal_string = '0.' + ''.join(map(str,decimal_number_str))\n",
        "    return float(final_decimal_string)\n",
        "\n",
        "\n",
        "\"\"\"\n",
        "function to return integer for an input `number_sentence` string\n",
        "input: string\n",
        "output: int or double or None\n",
        "\"\"\"\n",
        "\n",
        "\n",
        "def word_to_num(number_sentence):\n",
        "    if type(number_sentence) is not str:\n",
        "        raise ValueError(\"Type of input is not string! Please enter a valid number word (eg. \\'two million twenty three thousand and forty nine\\')\")\n",
        "\n",
        "    number_sentence = number_sentence.replace('-', ' ')\n",
        "    number_sentence = number_sentence.lower()  # converting input to lowercase\n",
        "\n",
        "    if(number_sentence.isdigit()):  # return the number if user enters a number string\n",
        "        return int(number_sentence)\n",
        "\n",
        "    split_words = number_sentence.strip().split()  # strip extra spaces and split sentence into words\n",
        "\n",
        "    clean_numbers = []\n",
        "    clean_decimal_numbers = []\n",
        "\n",
        "    # removing and, & etc.\n",
        "    for word in split_words:\n",
        "        if word in american_number_system:\n",
        "            clean_numbers.append(word)\n",
        "\n",
        "    # Error message if the user enters invalid input!\n",
        "    if len(clean_numbers) == 0:\n",
        "        raise ValueError(\"No valid number words found! Please enter a valid number word (eg. two million twenty three thousand and forty nine)\") \n",
        "\n",
        "    # Error if user enters million,billion, thousand or decimal point twice\n",
        "    if clean_numbers.count('thousand') > 1 or clean_numbers.count('million') > 1 or clean_numbers.count('billion') > 1 or clean_numbers.count('point')> 1:\n",
        "        raise ValueError(\"Redundant number word! Please enter a valid number word (eg. two million twenty three thousand and forty nine)\")\n",
        "\n",
        "    # separate decimal part of number (if exists)\n",
        "    if clean_numbers.count('point') == 1:\n",
        "        clean_decimal_numbers = clean_numbers[clean_numbers.index('point')+1:]\n",
        "        clean_numbers = clean_numbers[:clean_numbers.index('point')]\n",
        "\n",
        "    billion_index = clean_numbers.index('billion') if 'billion' in clean_numbers else -1\n",
        "    million_index = clean_numbers.index('million') if 'million' in clean_numbers else -1\n",
        "    thousand_index = clean_numbers.index('thousand') if 'thousand' in clean_numbers else -1\n",
        "\n",
        "    if (thousand_index > -1 and (thousand_index < million_index or thousand_index < billion_index)) or (million_index>-1 and million_index < billion_index):\n",
        "        raise ValueError(\"Malformed number! Please enter a valid number word (eg. two million twenty three thousand and forty nine)\")\n",
        "\n",
        "    total_sum = 0  # storing the number to be returned\n",
        "\n",
        "    if len(clean_numbers) > 0:\n",
        "        # hack for now, better way TODO\n",
        "        if len(clean_numbers) == 1:\n",
        "                total_sum += american_number_system[clean_numbers[0]]\n",
        "\n",
        "        else:\n",
        "            if billion_index > -1:\n",
        "                billion_multiplier = number_formation(clean_numbers[0:billion_index])\n",
        "                total_sum += billion_multiplier * 1000000000\n",
        "\n",
        "            if million_index > -1:\n",
        "                if billion_index > -1:\n",
        "                    million_multiplier = number_formation(clean_numbers[billion_index+1:million_index])\n",
        "                else:\n",
        "                    million_multiplier = number_formation(clean_numbers[0:million_index])\n",
        "                total_sum += million_multiplier * 1000000\n",
        "\n",
        "            if thousand_index > -1:\n",
        "                if million_index > -1:\n",
        "                    thousand_multiplier = number_formation(clean_numbers[million_index+1:thousand_index])\n",
        "                elif billion_index > -1 and million_index == -1:\n",
        "                    thousand_multiplier = number_formation(clean_numbers[billion_index+1:thousand_index])\n",
        "                else:\n",
        "                    thousand_multiplier = number_formation(clean_numbers[0:thousand_index])\n",
        "                total_sum += thousand_multiplier * 1000\n",
        "\n",
        "            if thousand_index > -1 and thousand_index != len(clean_numbers)-1:\n",
        "                hundreds = number_formation(clean_numbers[thousand_index+1:])\n",
        "            elif million_index > -1 and million_index != len(clean_numbers)-1:\n",
        "                hundreds = number_formation(clean_numbers[million_index+1:])\n",
        "            elif billion_index > -1 and billion_index != len(clean_numbers)-1:\n",
        "                hundreds = number_formation(clean_numbers[billion_index+1:])\n",
        "            elif thousand_index == -1 and million_index == -1 and billion_index == -1:\n",
        "                hundreds = number_formation(clean_numbers)\n",
        "            else:\n",
        "                hundreds = 0\n",
        "            total_sum += hundreds\n",
        "\n",
        "    # adding decimal part to total_sum (if exists)\n",
        "    if len(clean_decimal_numbers) > 0:\n",
        "        decimal_sum = get_decimal_sum(clean_decimal_numbers)\n",
        "        total_sum += decimal_sum\n",
        "\n",
        "    return total_sum"
      ],
      "execution_count": 0,
      "outputs": []
    },
    {
      "cell_type": "code",
      "metadata": {
        "id": "S3C0cIQHIxTG",
        "colab_type": "code",
        "colab": {}
      },
      "source": [
        "text = 'fifteen thousand dollars'"
      ],
      "execution_count": 0,
      "outputs": []
    },
    {
      "cell_type": "code",
      "metadata": {
        "id": "ryjA3dLdK1IX",
        "colab_type": "code",
        "outputId": "4139367e-6902-4c3d-f53b-acc02f68220e",
        "colab": {
          "base_uri": "https://localhost:8080/",
          "height": 34
        }
      },
      "source": [
        "# 1. Finding key words like currencies\n",
        "currency = {'dollar': '$', 'pound': '£', 'rupe': '₹'}\n",
        "\n",
        "# stemming to get singular words\n",
        "p = PorterStemmer()\n",
        "words = [p.stem(word) for word in text.split()] # ['s', 'o', 'c', ',', ' ', '3', '2', '\\n', ...]\n",
        "print(words)"
      ],
      "execution_count": 49,
      "outputs": [
        {
          "output_type": "stream",
          "text": [
            "['fifteen', 'thousand', 'dollar']\n"
          ],
          "name": "stdout"
        }
      ]
    },
    {
      "cell_type": "code",
      "metadata": {
        "id": "YcDlYiYhL_50",
        "colab_type": "code",
        "outputId": "e8c03772-95f0-4596-c478-c86e453456cc",
        "colab": {
          "base_uri": "https://localhost:8080/",
          "height": 34
        }
      },
      "source": [
        "# convert possible words to number\n",
        "# words = ['two']\n",
        "# nums = [word_to_num(word) for word in words]\n",
        "nums = []\n",
        "for word in words:\n",
        "  try:\n",
        "    nums.append(word_to_num(word))\n",
        "  except:\n",
        "    nums.append(0)\n",
        "print(nums)"
      ],
      "execution_count": 50,
      "outputs": [
        {
          "output_type": "stream",
          "text": [
            "[15, 1000, 0]\n"
          ],
          "name": "stdout"
        }
      ]
    },
    {
      "cell_type": "code",
      "metadata": {
        "id": "AXMdFS8fQlFX",
        "colab_type": "code",
        "outputId": "f69fd4ea-df20-47e4-9e8d-3c409b76d7c3",
        "colab": {
          "base_uri": "https://localhost:8080/",
          "height": 119
        }
      },
      "source": [
        "# check for curreny in the prev and next index\n",
        "idx = np.nonzero(nums)\n",
        "res = []\n",
        "# print(idx[0])   \n",
        "\n",
        "for val in idx[0]:\n",
        "  # print(val, nums)\n",
        "  if val+1 < len(nums) and nums[val+1] != 0:\n",
        "    num = nums[val+1]\n",
        "    nums[val] = nums[val] * nums[val+1]\n",
        "    nums.remove(num)\n",
        "\n",
        "for val in idx[0]:\n",
        "  # print(words, nums)\n",
        "  if words[val+1] in currency.keys():\n",
        "    c = words[val+1]\n",
        "    res.append(str(currency.get(c)) + str(nums[val-1]))\n",
        "    # words.remove(c)\n",
        "\n",
        "  # elif words[]\n",
        "print(res)"
      ],
      "execution_count": 51,
      "outputs": [
        {
          "output_type": "stream",
          "text": [
            "[0 1]\n",
            "0 [15, 1000, 0]\n",
            "1 [15000, 0]\n",
            "['fifteen', 'thousand', 'dollar'] [15000, 0]\n",
            "['fifteen', 'thousand', 'dollar'] [15000, 0]\n",
            "['$15000']\n"
          ],
          "name": "stdout"
        }
      ]
    },
    {
      "cell_type": "code",
      "metadata": {
        "id": "FpSrsTHAM8M8",
        "colab_type": "code",
        "outputId": "79ed966e-7b1e-4378-aec5-e4eaa64828a0",
        "colab": {
          "base_uri": "https://localhost:8080/",
          "height": 34
        }
      },
      "source": [
        "# handling installations\n",
        "# !pip install word2number\n",
        "!ls"
      ],
      "execution_count": 8,
      "outputs": [
        {
          "output_type": "stream",
          "text": [
            "sample_data\n"
          ],
          "name": "stdout"
        }
      ]
    },
    {
      "cell_type": "code",
      "metadata": {
        "id": "y96yG4oaNrZz",
        "colab_type": "code",
        "colab": {}
      },
      "source": [
        ""
      ],
      "execution_count": 0,
      "outputs": []
    }
  ]
}