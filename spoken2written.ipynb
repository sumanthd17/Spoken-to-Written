{
  "nbformat": 4,
  "nbformat_minor": 0,
  "metadata": {
    "colab": {
      "name": "spoken2written.ipynb",
      "provenance": [],
      "collapsed_sections": [],
      "include_colab_link": true
    },
    "kernelspec": {
      "name": "python3",
      "display_name": "Python 3"
    }
  },
  "cells": [
    {
      "cell_type": "markdown",
      "metadata": {
        "id": "view-in-github",
        "colab_type": "text"
      },
      "source": [
        "<a href=\"https://colab.research.google.com/github/sumanthd17/Spoken-to-Written/blob/master/spoken2written.ipynb\" target=\"_parent\"><img src=\"https://colab.research.google.com/assets/colab-badge.svg\" alt=\"Open In Colab\"/></a>"
      ]
    },
    {
      "cell_type": "code",
      "metadata": {
        "id": "wF2C_ezZLdH-",
        "colab_type": "code",
        "colab": {}
      },
      "source": [
        "# Imports\n",
        "from nltk import PorterStemmer"
      ],
      "execution_count": 0,
      "outputs": []
    },
    {
      "cell_type": "code",
      "metadata": {
        "id": "S3C0cIQHIxTG",
        "colab_type": "code",
        "colab": {}
      },
      "source": [
        "text = 'convert two dollars to $2'"
      ],
      "execution_count": 0,
      "outputs": []
    },
    {
      "cell_type": "code",
      "metadata": {
        "id": "ryjA3dLdK1IX",
        "colab_type": "code",
        "colab": {
          "base_uri": "https://localhost:8080/",
          "height": 34
        },
        "outputId": "e4bc83d8-4a53-4c76-ad74-718efef69ad7"
      },
      "source": [
        "# 1. Finding key words like currencies\n",
        "currency = ['dollar', 'pound', 'rupee']\n",
        "\n",
        "# stemming to get singular words\n",
        "p = PorterStemmer()\n",
        "words = [p.stem(word) for word in text.split()] # ['s', 'o', 'c', ',', ' ', '3', '2', '\\n', ...]\n",
        "print(words)"
      ],
      "execution_count": 6,
      "outputs": [
        {
          "output_type": "stream",
          "text": [
            "['convert', 'two', 'dollar', 'to', '$2']\n"
          ],
          "name": "stdout"
        }
      ]
    },
    {
      "cell_type": "code",
      "metadata": {
        "id": "YcDlYiYhL_50",
        "colab_type": "code",
        "colab": {}
      },
      "source": [
        ""
      ],
      "execution_count": 0,
      "outputs": []
    }
  ]
}